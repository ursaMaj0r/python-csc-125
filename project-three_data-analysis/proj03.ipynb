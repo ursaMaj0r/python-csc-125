{
 "cells": [
  {
   "cell_type": "markdown",
   "source": [
    "# Step 1: Overview\r\n",
    "### title:          proj03.py\r\n",
    "### description:    CSC-125 Project 3: Profitability in Mobile App Development\r\n",
    "### author:         jmalavasi\r\n",
    "### date:           08012021\r\n",
    "### version:        1.0\r\n",
    "\r\n",
    "## Determining what makes apps profitable in iOS and Android\r\n",
    "The goal of this project is to analyze two datasets from both major mobile app stores in order to explore what makes apps more profitable."
   ],
   "metadata": {}
  },
  {
   "cell_type": "markdown",
   "source": [
    "# Step 2 : Explore\r\n"
   ],
   "metadata": {}
  },
  {
   "cell_type": "markdown",
   "source": [
    "Import the data and print some rows\r\n"
   ],
   "metadata": {}
  },
  {
   "cell_type": "code",
   "execution_count": 19,
   "source": [
    "import csv\r\n",
    "\r\n",
    "# import raw data sets\r\n",
    "google_data_raw = list(csv.reader(open('./googleplaystore.csv', encoding='utf8')))\r\n",
    "google_data = google_data_raw[1:]\r\n",
    "google_labels = google_data_raw[0]\r\n",
    "apple_data_raw = list(csv.reader(open('./applestore.csv', encoding='utf8')))\r\n",
    "apple_data = apple_data_raw[1:]\r\n",
    "apple_labels = apple_data_raw[0]\r\n",
    "\r\n",
    "print(google_labels,'\\n',google_data[0:2],'\\n\\n\\n')\r\n",
    "print(apple_labels,'\\n',apple_data[0:2])"
   ],
   "outputs": [
    {
     "output_type": "stream",
     "name": "stdout",
     "text": [
      "['App', 'Category', 'Rating', 'Reviews', 'Size', 'Installs', 'Type', 'Price', 'Content Rating', 'Genres', 'Last Updated', 'Current Ver', 'Android Ver'] \n",
      " [['Photo Editor & Candy Camera & Grid & ScrapBook', 'ART_AND_DESIGN', '4.1', '159', '19M', '10,000+', 'Free', '0', 'Everyone', 'Art & Design', '7-Jan-18', '1.0.0', '4.0.3 and up'], ['Coloring book moana', 'ART_AND_DESIGN', '3.9', '967', '14M', '500,000+', 'Free', '0', 'Everyone', 'Art & Design;Pretend Play', '15-Jan-18', '2.0.0', '4.0.3 and up']] \n",
      "\n",
      "\n",
      "\n",
      "['id', 'track_name', 'size_bytes', 'currency', 'price', 'rating_count_tot', 'rating_count_ver', 'user_rating', 'user_rating_ver', 'ver', 'cont_rating', 'prime_genre', 'sup_devices.num', 'ipadSc_urls.num', 'lang.num', 'vpp_lic'] \n",
      " [['284882215', 'Facebook', '389879808', 'USD', '0', '2974676', '212', '3.5', '3.5', '95', '4+', 'Social Networking', '37', '1', '29', '1'], ['389801252', 'Instagram', '113954816', 'USD', '0', '2161558', '1289', '4.5', '4', '10.23', '12+', 'Photo & Video', '37', '0', '29', '1']]\n"
     ]
    }
   ],
   "metadata": {}
  },
  {
   "cell_type": "markdown",
   "source": [
    "Use Explore Data Function"
   ],
   "metadata": {}
  },
  {
   "cell_type": "code",
   "execution_count": 144,
   "source": [
    "def explore_data(dataset, start, end, rows_and_columns=False):\r\n",
    "    dataset_slice = dataset[start:end]    \r\n",
    "    for row in dataset_slice:\r\n",
    "        print(row)\r\n",
    "        print('\\n') # adds a new (empty) line after each row\r\n",
    "\r\n",
    "    if rows_and_columns:\r\n",
    "        print('Number of rows:', len(dataset))\r\n",
    "        print('Number of columns:', len(dataset[0]))\r\n",
    "\r\n"
   ],
   "outputs": [],
   "metadata": {}
  },
  {
   "cell_type": "code",
   "execution_count": 145,
   "source": [
    "# Explore Android\r\n",
    "print('Google:\\n',google_labels,'\\n')\r\n",
    "explore_data(google_data, 0, 3, True)\r\n",
    "\r\n",
    "# Explore Apple\r\n",
    "print('\\n\\nApple:\\n',apple_labels,'\\n')\r\n",
    "explore_data(apple_data, 0, 3, True)"
   ],
   "outputs": [
    {
     "output_type": "stream",
     "name": "stdout",
     "text": [
      "Google:\n",
      " ['App', 'Category', 'Rating', 'Reviews', 'Size', 'Installs', 'Type', 'Price', 'Content Rating', 'Genres', 'Last Updated', 'Current Ver', 'Android Ver'] \n",
      "\n",
      "['Photo Editor & Candy Camera & Grid & ScrapBook', 'ART_AND_DESIGN', '4.1', '159', '19M', '10,000+', 'Free', '0', 'Everyone', 'Art & Design', '7-Jan-18', '1.0.0', '4.0.3 and up']\n",
      "\n",
      "\n",
      "['Coloring book moana', 'ART_AND_DESIGN', '3.9', '967', '14M', '500,000+', 'Free', '0', 'Everyone', 'Art & Design;Pretend Play', '15-Jan-18', '2.0.0', '4.0.3 and up']\n",
      "\n",
      "\n",
      "['U Launcher Lite – FREE Live Cool Themes, Hide Apps', 'ART_AND_DESIGN', '4.7', '87510', '8.7M', '5,000,000+', 'Free', '0', 'Everyone', 'Art & Design', '1-Aug-18', '1.2.4', '4.0.3 and up']\n",
      "\n",
      "\n",
      "Number of rows: 10840\n",
      "Number of columns: 13\n",
      "\n",
      "\n",
      "Apple:\n",
      " ['id', 'track_name', 'size_bytes', 'currency', 'price', 'rating_count_tot', 'rating_count_ver', 'user_rating', 'user_rating_ver', 'ver', 'cont_rating', 'prime_genre', 'sup_devices.num', 'ipadSc_urls.num', 'lang.num', 'vpp_lic'] \n",
      "\n",
      "['284882215', 'Facebook', '389879808', 'USD', '0', '2974676', '212', '3.5', '3.5', '95', '4+', 'Social Networking', '37', '1', '29', '1']\n",
      "\n",
      "\n",
      "['389801252', 'Instagram', '113954816', 'USD', '0', '2161558', '1289', '4.5', '4', '10.23', '12+', 'Photo & Video', '37', '0', '29', '1']\n",
      "\n",
      "\n",
      "['529479190', 'Clash of Clans', '116476928', 'USD', '0', '2130805', '579', '4.5', '4.5', '9.24.12', '9+', 'Games', '38', '5', '18', '1']\n",
      "\n",
      "\n",
      "Number of rows: 7197\n",
      "Number of columns: 16\n"
     ]
    }
   ],
   "metadata": {}
  },
  {
   "cell_type": "markdown",
   "source": [
    "There are 10841 rows in the Google dataset and 7197 rows in the Apple dataset. From the google data set the columns of interest appear to be Category, Rating, Reviews, and Price. For Apple : track_name, price, rating_count_tot, and user_rating."
   ],
   "metadata": {}
  },
  {
   "cell_type": "markdown",
   "source": [
    "# Step 3 : Remove Bad Data\r\n",
    "\r\n"
   ],
   "metadata": {}
  },
  {
   "cell_type": "markdown",
   "source": [
    "Discussion indicates that row 10742 is missing a category and should be deleted"
   ],
   "metadata": {}
  },
  {
   "cell_type": "code",
   "execution_count": 46,
   "source": [
    "print(google_labels,'\\n',google_data[10472])\r\n",
    "del google_data[10472]\r\n",
    "print(google_labels,'\\n',google_data[10472])"
   ],
   "outputs": [
    {
     "output_type": "stream",
     "name": "stdout",
     "text": [
      "['App', 'Category', 'Rating', 'Reviews', 'Size', 'Installs', 'Type', 'Price', 'Content Rating', 'Genres', 'Last Updated', 'Current Ver', 'Android Ver'] \n",
      " ['Life Made WI-Fi Touchscreen Photo Frame', '1.9', '19', '3.0M', '1,000+', 'Free', '0', 'Everyone', '', '11-Feb-18', '1.0.19', '4.0 and up', '']\n",
      "['App', 'Category', 'Rating', 'Reviews', 'Size', 'Installs', 'Type', 'Price', 'Content Rating', 'Genres', 'Last Updated', 'Current Ver', 'Android Ver'] \n",
      " ['osmino Wi-Fi: free WiFi', 'TOOLS', '4.2', '134203', '4.1M', '10,000,000+', 'Free', '0', 'Everyone', 'Tools', '7-Aug-18', '6.06.14', '4.4 and up']\n"
     ]
    }
   ],
   "metadata": {}
  },
  {
   "cell_type": "markdown",
   "source": [
    "# Step 4 : Finding Duplicates"
   ],
   "metadata": {}
  },
  {
   "cell_type": "markdown",
   "source": [
    "After close inspection of the google data, you will notice duplicate apps. One example of this is Google Ads."
   ],
   "metadata": {}
  },
  {
   "cell_type": "code",
   "execution_count": 146,
   "source": [
    "for row in google_data:\r\n",
    "    app = row[0]\r\n",
    "    if app == 'Google Ads':\r\n",
    "        print(row)"
   ],
   "outputs": [
    {
     "output_type": "stream",
     "name": "stdout",
     "text": [
      "['Google Ads', 'BUSINESS', '4.3', '29313', '20M', '5,000,000+', 'Free', '0', 'Everyone', 'Business', '30-Jul-18', '1.12.0', '4.0.3 and up']\n",
      "['Google Ads', 'BUSINESS', '4.3', '29313', '20M', '5,000,000+', 'Free', '0', 'Everyone', 'Business', '30-Jul-18', '1.12.0', '4.0.3 and up']\n",
      "['Google Ads', 'BUSINESS', '4.3', '29331', '20M', '5,000,000+', 'Free', '0', 'Everyone', 'Business', '30-Jul-18', '1.12.0', '4.0.3 and up']\n"
     ]
    }
   ],
   "metadata": {}
  },
  {
   "cell_type": "markdown",
   "source": [
    "Show total number of duplicates"
   ],
   "metadata": {}
  },
  {
   "cell_type": "code",
   "execution_count": 47,
   "source": [
    "filter_duplicate_apps = []\r\n",
    "filter_unique_apps = []\r\n",
    "\r\n",
    "for row in google_data:\r\n",
    "    app_name = row[0]\r\n",
    "    if app_name in filter_unique_apps:\r\n",
    "        filter_duplicate_apps.append(app_name)\r\n",
    "    else:\r\n",
    "        filter_unique_apps.append(app_name)\r\n",
    "    \r\n",
    "print('Number of duplicate apps:', len(filter_duplicate_apps))\r\n",
    "print('\\n')\r\n",
    "print('Examples of duplicate apps:', filter_duplicate_apps[:15])"
   ],
   "outputs": [
    {
     "output_type": "stream",
     "name": "stdout",
     "text": [
      "Number of duplicate apps: 1181\n",
      "\n",
      "\n",
      "Examples of duplicate apps: ['Quick PDF Scanner + OCR FREE', 'Box', 'Google My Business', 'ZOOM Cloud Meetings', 'join.me - Simple Meetings', 'Box', 'Zenefits', 'Google Ads', 'Google My Business', 'Slack', 'FreshBooks Classic', 'Insightly CRM', 'QuickBooks Accounting: Invoicing & Expenses', 'HipChat - Chat Built for Teams', 'Xero Accounting Software']\n"
     ]
    }
   ],
   "metadata": {}
  },
  {
   "cell_type": "markdown",
   "source": [],
   "metadata": {}
  },
  {
   "cell_type": "markdown",
   "source": [
    "We don't want to randomly remove duplicates in order to avoid outliers. Therefore we will keep the record with the most reviews."
   ],
   "metadata": {}
  },
  {
   "cell_type": "markdown",
   "source": [
    "# Step 5: Removing Duplicates"
   ],
   "metadata": {}
  },
  {
   "cell_type": "code",
   "execution_count": 53,
   "source": [
    "reviews_max = {}\r\n",
    "\r\n",
    "# for each app in google data, get record with max number of reviews\r\n",
    "for app in google_data:\r\n",
    "    name = app[0]\r\n",
    "    n_reviews = float(app[3])\r\n",
    "    \r\n",
    "    if name in reviews_max and reviews_max[name] < n_reviews:\r\n",
    "        reviews_max[name] = n_reviews\r\n",
    "        \r\n",
    "    elif name not in reviews_max:\r\n",
    "        reviews_max[name] = n_reviews\r\n",
    "\r\n",
    "# validate        \r\n",
    "print('Expected length:', len(google_data) - 1181)\r\n",
    "print('Actual length:', len(reviews_max))"
   ],
   "outputs": [
    {
     "output_type": "stream",
     "name": "stdout",
     "text": [
      "Expected length: 9659\n",
      "Actual length: 9659\n"
     ]
    }
   ],
   "metadata": {}
  },
  {
   "cell_type": "markdown",
   "source": [
    "Use reviews_max dictionary as a reference to clean actual data set. \r\n",
    "\r\n",
    "Instead of removing the duplicates randomly, we will choose the record with the most number of reviews.\r\n",
    "\r\n",
    "We will do this by looping through each app in the dataset and comparing the number of reviews in each record to the data we collected in the previous step. If the number of reivews in the record matches the one in the reviews_max collection, then the record will be added to android_clean. Each type an app is added to the dataset, it is recorded in already_added to prevent duplicates.\r\n"
   ],
   "metadata": {}
  },
  {
   "cell_type": "code",
   "execution_count": 147,
   "source": [
    "android_clean = []\r\n",
    "already_added = []\r\n",
    "\r\n",
    "for app in google_data:\r\n",
    "    name = app[0]\r\n",
    "    n_reviews = float(app[3])\r\n",
    "    \r\n",
    "    if (reviews_max[name] == n_reviews) and (name not in already_added):\r\n",
    "        android_clean.append(app)\r\n",
    "        already_added.append(name) \r\n",
    "\r\n",
    "# validate           \r\n",
    "explore_data(android_clean, 0, 5, True)"
   ],
   "outputs": [
    {
     "output_type": "stream",
     "name": "stdout",
     "text": [
      "['Photo Editor & Candy Camera & Grid & ScrapBook', 'ART_AND_DESIGN', '4.1', '159', '19M', '10,000+', 'Free', '0', 'Everyone', 'Art & Design', '7-Jan-18', '1.0.0', '4.0.3 and up']\n",
      "\n",
      "\n",
      "['U Launcher Lite – FREE Live Cool Themes, Hide Apps', 'ART_AND_DESIGN', '4.7', '87510', '8.7M', '5,000,000+', 'Free', '0', 'Everyone', 'Art & Design', '1-Aug-18', '1.2.4', '4.0.3 and up']\n",
      "\n",
      "\n",
      "['Sketch - Draw & Paint', 'ART_AND_DESIGN', '4.5', '215644', '25M', '50,000,000+', 'Free', '0', 'Teen', 'Art & Design', '8-Jun-18', 'Varies with device', '4.2 and up']\n",
      "\n",
      "\n",
      "['Pixel Draw - Number Art Coloring Book', 'ART_AND_DESIGN', '4.3', '967', '2.8M', '100,000+', 'Free', '0', 'Everyone', 'Art & Design;Creativity', '20-Jun-18', '1.1', '4.4 and up']\n",
      "\n",
      "\n",
      "['Paper flowers instructions', 'ART_AND_DESIGN', '4.4', '167', '5.6M', '50,000+', 'Free', '0', 'Everyone', 'Art & Design', '26-Mar-17', '1', '2.3 and up']\n",
      "\n",
      "\n",
      "Number of rows: 9659\n",
      "Number of columns: 13\n"
     ]
    }
   ],
   "metadata": {}
  },
  {
   "cell_type": "markdown",
   "source": [
    "## Repeat for iOS"
   ],
   "metadata": {}
  },
  {
   "cell_type": "code",
   "execution_count": 122,
   "source": [
    "\r\n",
    "reviews_max_apple = {}\r\n",
    "\r\n",
    "# for each app in google data, get record with max number of reviews\r\n",
    "for app in apple_data:\r\n",
    "    name = app[1]\r\n",
    "    n_reviews = int(app[5])\r\n",
    "    \r\n",
    "    if name in reviews_max_apple and reviews_max_apple[name] < n_reviews:\r\n",
    "        reviews_max_apple[name] = n_reviews\r\n",
    "    elif name not in reviews_max_apple:\r\n",
    "        reviews_max_apple[name] = n_reviews\r\n",
    "\r\n",
    "apple_clean = []\r\n",
    "already_added_apple = []\r\n",
    "\r\n",
    "\r\n",
    "for app in apple_data:\r\n",
    "    name = app[1]\r\n",
    "    n_reviews = int(app[5])\r\n",
    "\r\n",
    "    if (reviews_max_apple[name] == n_reviews) and (name not in already_added):\r\n",
    "        apple_clean.append(app)\r\n",
    "        already_added_apple.append(name) \r\n",
    "\r\n",
    "# validate           \r\n",
    "explore_data(apple_clean, 0, 5, True)"
   ],
   "outputs": [
    {
     "output_type": "stream",
     "name": "stdout",
     "text": [
      "['284035177', 'Pandora - Music & Radio', '130242560', 'USD', '0', '1126879', '3594', '4', '4.5', '8.4.1', '12+', 'Music', '37', '4', '1', '1']\n",
      "\n",
      "\n",
      "['324684580', 'Spotify Music', '132510720', 'USD', '0', '878563', '8253', '4.5', '4.5', '8.4.3', '12+', 'Music', '37', '5', '18', '1']\n",
      "\n",
      "\n",
      "['343200656', 'Angry Birds', '175966208', 'USD', '0', '824451', '107', '4.5', '3', '7.4.0', '4+', 'Games', '38', '0', '10', '1']\n",
      "\n",
      "\n",
      "['469369175', 'CSR Racing', '524803072', 'USD', '0', '677247', '2029', '4.5', '4.5', '4.0.1', '4+', 'Games', '37', '5', '10', '1']\n",
      "\n",
      "\n",
      "['924373886', 'Crossy Road - Endless Arcade Hopper', '165471232', 'USD', '0', '669079', '1087', '4.5', '4.5', '1.5.4', '9+', 'Games', '38', '5', '13', '1']\n",
      "\n",
      "\n",
      "Number of rows: 6867\n",
      "Number of columns: 16\n"
     ]
    }
   ],
   "metadata": {}
  },
  {
   "cell_type": "markdown",
   "source": [
    "# Step 6: Remove non English Records"
   ],
   "metadata": {}
  },
  {
   "cell_type": "code",
   "execution_count": 59,
   "source": [
    "def is_english_app(string):\r\n",
    "    for char in string:\r\n",
    "        if ord(char) > 127:\r\n",
    "            return False\r\n",
    "    return True\r\n",
    "\r\n",
    "print(\"Testing Names:\\n\")\r\n",
    "test_names = [\"Instagram\",\"爱奇艺PPS -《欢乐颂2》电视剧热播\", \"Docs To Go™ Free Office Suite\",\"Instachat 😜\"]\r\n",
    "for name in test_names:\r\n",
    "    print(name,': ',is_english_app(name))"
   ],
   "outputs": [
    {
     "output_type": "stream",
     "name": "stdout",
     "text": [
      "Testing Names:\n",
      "\n",
      "Instagram :  True\n",
      "爱奇艺PPS -《欢乐颂2》电视剧热播 :  False\n",
      "Docs To Go™ Free Office Suite :  False\n",
      "Instachat 😜 :  False\n"
     ]
    }
   ],
   "metadata": {}
  },
  {
   "cell_type": "markdown",
   "source": [
    "# Step 7: Update Filter to Allow for Emojis"
   ],
   "metadata": {}
  },
  {
   "cell_type": "code",
   "execution_count": 62,
   "source": [
    "def is_english_app(string):\r\n",
    "    strikes = 0\r\n",
    "    for char in string:\r\n",
    "        if ord(char) > 127:\r\n",
    "            strikes += 1\r\n",
    "    if strikes > 3:\r\n",
    "        return False\r\n",
    "    else:\r\n",
    "        return True\r\n",
    "\r\n",
    "print(\"Testing Names:\\n\")\r\n",
    "test_names = [\"Instagram\",\"爱奇艺PPS -《欢乐颂2》电视剧热播\", \"Docs To Go™ Free Office Suite\",\"Instachat 😜\"]\r\n",
    "for name in test_names:\r\n",
    "    print(name,': ',is_english_app(name))"
   ],
   "outputs": [
    {
     "output_type": "stream",
     "name": "stdout",
     "text": [
      "Testing Names:\n",
      "\n",
      "Instagram :  True\n",
      "爱奇艺PPS -《欢乐颂2》电视剧热播 :  False\n",
      "Docs To Go™ Free Office Suite :  True\n",
      "Instachat 😜 :  True\n"
     ]
    }
   ],
   "metadata": {}
  },
  {
   "cell_type": "markdown",
   "source": [
    "Clean Dataset"
   ],
   "metadata": {}
  },
  {
   "cell_type": "code",
   "execution_count": 123,
   "source": [
    "android_english_apps = []\r\n",
    "ios_english_apps = []\r\n",
    "\r\n",
    "for row in android_clean:\r\n",
    "    app_name = row[0]\r\n",
    "    if is_english_app(app_name):\r\n",
    "        android_english_apps.append(row)\r\n",
    "        \r\n",
    "for row in apple_clean:\r\n",
    "    app_name =  row[0]\r\n",
    "    if is_english_app(app_name):\r\n",
    "        ios_english_apps.append(row)\r\n",
    "        \r\n",
    "explore_data(android_english_apps, 0, 5, True)\r\n",
    "print('\\n')\r\n",
    "explore_data(ios_english_apps, 0, 5, True)"
   ],
   "outputs": [
    {
     "output_type": "stream",
     "name": "stdout",
     "text": [
      "['Photo Editor & Candy Camera & Grid & ScrapBook', 'ART_AND_DESIGN', '4.1', '159', '19M', '10,000+', 'Free', '0', 'Everyone', 'Art & Design', '7-Jan-18', '1.0.0', '4.0.3 and up']\n",
      "\n",
      "\n",
      "['U Launcher Lite – FREE Live Cool Themes, Hide Apps', 'ART_AND_DESIGN', '4.7', '87510', '8.7M', '5,000,000+', 'Free', '0', 'Everyone', 'Art & Design', '1-Aug-18', '1.2.4', '4.0.3 and up']\n",
      "\n",
      "\n",
      "['Sketch - Draw & Paint', 'ART_AND_DESIGN', '4.5', '215644', '25M', '50,000,000+', 'Free', '0', 'Teen', 'Art & Design', '8-Jun-18', 'Varies with device', '4.2 and up']\n",
      "\n",
      "\n",
      "['Pixel Draw - Number Art Coloring Book', 'ART_AND_DESIGN', '4.3', '967', '2.8M', '100,000+', 'Free', '0', 'Everyone', 'Art & Design;Creativity', '20-Jun-18', '1.1', '4.4 and up']\n",
      "\n",
      "\n",
      "['Paper flowers instructions', 'ART_AND_DESIGN', '4.4', '167', '5.6M', '50,000+', 'Free', '0', 'Everyone', 'Art & Design', '26-Mar-17', '1', '2.3 and up']\n",
      "\n",
      "\n",
      "Number of rows: 9614\n",
      "Number of columns: 13\n",
      "\n",
      "\n",
      "['284035177', 'Pandora - Music & Radio', '130242560', 'USD', '0', '1126879', '3594', '4', '4.5', '8.4.1', '12+', 'Music', '37', '4', '1', '1']\n",
      "\n",
      "\n",
      "['324684580', 'Spotify Music', '132510720', 'USD', '0', '878563', '8253', '4.5', '4.5', '8.4.3', '12+', 'Music', '37', '5', '18', '1']\n",
      "\n",
      "\n",
      "['343200656', 'Angry Birds', '175966208', 'USD', '0', '824451', '107', '4.5', '3', '7.4.0', '4+', 'Games', '38', '0', '10', '1']\n",
      "\n",
      "\n",
      "['469369175', 'CSR Racing', '524803072', 'USD', '0', '677247', '2029', '4.5', '4.5', '4.0.1', '4+', 'Games', '37', '5', '10', '1']\n",
      "\n",
      "\n",
      "['924373886', 'Crossy Road - Endless Arcade Hopper', '165471232', 'USD', '0', '669079', '1087', '4.5', '4.5', '1.5.4', '9+', 'Games', '38', '5', '13', '1']\n",
      "\n",
      "\n",
      "Number of rows: 6867\n",
      "Number of columns: 16\n"
     ]
    }
   ],
   "metadata": {}
  },
  {
   "cell_type": "markdown",
   "source": [
    "# Step 8: Remove Paid Apps"
   ],
   "metadata": {}
  },
  {
   "cell_type": "markdown",
   "source": [
    "If the price of the app is 0, do not include it in final dataset"
   ],
   "metadata": {}
  },
  {
   "cell_type": "code",
   "execution_count": 124,
   "source": [
    "google_data_final = []\r\n",
    "apple_data_final = []\r\n",
    "\r\n",
    "for row in android_english_apps:\r\n",
    "    price = row[7]\r\n",
    "    if price == '0':\r\n",
    "        google_data_final.append(row)\r\n",
    "        \r\n",
    "for row in ios_english_apps:\r\n",
    "    price = row[4]\r\n",
    "    if price == '0':\r\n",
    "        apple_data_final.append(row)\r\n",
    "\r\n",
    "print(len(google_data_final))\r\n",
    "print(len(apple_data_final))"
   ],
   "outputs": [
    {
     "output_type": "stream",
     "name": "stdout",
     "text": [
      "8864\n",
      "3793\n"
     ]
    }
   ],
   "metadata": {}
  },
  {
   "cell_type": "markdown",
   "source": [
    "This leaves us with the following:\r\n",
    "- Google : 8864 apps\r\n",
    "- Apple : 3793 apps"
   ],
   "metadata": {}
  },
  {
   "cell_type": "markdown",
   "source": [
    "# Step 9: Find Most Common Genres"
   ],
   "metadata": {}
  },
  {
   "cell_type": "markdown",
   "source": [
    "Due to the fact that it is much easier to get an app on the Google Play Store, we will take the following approach to development. First we will build a minimal viable product (MVP) on android and then monitor its response. If the app takes off after an initial introduction period of six months, further development including introduction to the iOS App Store will take place. We will specifically investigate the prime_genre column from the Apple dataset and the Genre and Category columns from Google."
   ],
   "metadata": {}
  },
  {
   "cell_type": "markdown",
   "source": [
    "# Step 10: Create Function for Frequency Tables"
   ],
   "metadata": {}
  },
  {
   "cell_type": "markdown",
   "source": [
    "Create code to analyze"
   ],
   "metadata": {}
  },
  {
   "cell_type": "code",
   "execution_count": 125,
   "source": [
    "def freq_table(dataset, index):\r\n",
    "    # declare variables\r\n",
    "    output_percentages = {}\r\n",
    "    categories = {}   \r\n",
    " \r\n",
    "    # for each record, count categories\r\n",
    "    for row in dataset:\r\n",
    "        value = row[index]\r\n",
    "        if value in categories:\r\n",
    "            categories[value] += 1\r\n",
    "        else:\r\n",
    "            categories[value] = 1 \r\n",
    "\r\n",
    "    # for each category, convert count to %\r\n",
    "    for category in categories:\r\n",
    "        output_percentages[category] = (categories[category] / len(dataset)) * 100\r\n",
    "    return output_percentages\r\n",
    "\r\n",
    "def display_table(dataset, index):\r\n",
    "    table = freq_table(dataset, index)\r\n",
    "    table_display = []\r\n",
    "    for key in table:\r\n",
    "        key_val_as_tuple = (table[key], key)\r\n",
    "        table_display.append(key_val_as_tuple)\r\n",
    "        \r\n",
    "    table_sorted = sorted(table_display, reverse = True)\r\n",
    "    for entry in table_sorted:\r\n",
    "        print(entry[1], ':', entry[0])"
   ],
   "outputs": [],
   "metadata": {}
  },
  {
   "cell_type": "markdown",
   "source": [
    "Run analysis"
   ],
   "metadata": {}
  },
  {
   "cell_type": "code",
   "execution_count": 126,
   "source": [
    "print(\"Google Data:\\n\")\r\n",
    "display_table(google_data_final, 1) # Category"
   ],
   "outputs": [
    {
     "output_type": "stream",
     "name": "stdout",
     "text": [
      "Google Data:\n",
      "\n",
      "FAMILY : 18.907942238267147\n",
      "GAME : 9.724729241877256\n",
      "TOOLS : 8.461191335740072\n",
      "BUSINESS : 4.591606498194946\n",
      "LIFESTYLE : 3.9034296028880866\n",
      "PRODUCTIVITY : 3.892148014440433\n",
      "FINANCE : 3.7003610108303246\n",
      "MEDICAL : 3.531137184115524\n",
      "SPORTS : 3.395758122743682\n",
      "PERSONALIZATION : 3.3167870036101084\n",
      "COMMUNICATION : 3.2378158844765346\n",
      "HEALTH_AND_FITNESS : 3.0798736462093865\n",
      "PHOTOGRAPHY : 2.944494584837545\n",
      "NEWS_AND_MAGAZINES : 2.7978339350180503\n",
      "SOCIAL : 2.6624548736462095\n",
      "TRAVEL_AND_LOCAL : 2.33528880866426\n",
      "SHOPPING : 2.2450361010830324\n",
      "BOOKS_AND_REFERENCE : 2.1435018050541514\n",
      "DATING : 1.861462093862816\n",
      "VIDEO_PLAYERS : 1.7937725631768955\n",
      "MAPS_AND_NAVIGATION : 1.3989169675090252\n",
      "FOOD_AND_DRINK : 1.2409747292418771\n",
      "EDUCATION : 1.1620036101083033\n",
      "ENTERTAINMENT : 0.9589350180505415\n",
      "LIBRARIES_AND_DEMO : 0.9363718411552346\n",
      "AUTO_AND_VEHICLES : 0.9250902527075812\n",
      "HOUSE_AND_HOME : 0.8235559566787004\n",
      "WEATHER : 0.8009927797833934\n",
      "EVENTS : 0.7107400722021661\n",
      "PARENTING : 0.6543321299638989\n",
      "ART_AND_DESIGN : 0.6430505415162455\n",
      "COMICS : 0.6204873646209386\n",
      "BEAUTY : 0.5979241877256317\n"
     ]
    }
   ],
   "metadata": {}
  },
  {
   "cell_type": "code",
   "execution_count": 127,
   "source": [
    "print(\"Google Data:\\n\")\r\n",
    "display_table(google_data_final, -4) # Genre"
   ],
   "outputs": [
    {
     "output_type": "stream",
     "name": "stdout",
     "text": [
      "Google Data:\n",
      "\n",
      "Tools : 8.449909747292418\n",
      "Entertainment : 6.069494584837545\n",
      "Education : 5.347472924187725\n",
      "Business : 4.591606498194946\n",
      "Productivity : 3.892148014440433\n",
      "Lifestyle : 3.892148014440433\n",
      "Finance : 3.7003610108303246\n",
      "Medical : 3.531137184115524\n",
      "Sports : 3.463447653429603\n",
      "Personalization : 3.3167870036101084\n",
      "Communication : 3.2378158844765346\n",
      "Action : 3.1024368231046933\n",
      "Health & Fitness : 3.0798736462093865\n",
      "Photography : 2.944494584837545\n",
      "News & Magazines : 2.7978339350180503\n",
      "Social : 2.6624548736462095\n",
      "Travel & Local : 2.3240072202166067\n",
      "Shopping : 2.2450361010830324\n",
      "Books & Reference : 2.1435018050541514\n",
      "Simulation : 2.0419675090252705\n",
      "Dating : 1.861462093862816\n",
      "Arcade : 1.8501805054151623\n",
      "Video Players & Editors : 1.7712093862815883\n",
      "Casual : 1.7599277978339352\n",
      "Maps & Navigation : 1.3989169675090252\n",
      "Food & Drink : 1.2409747292418771\n",
      "Puzzle : 1.128158844765343\n",
      "Racing : 0.9927797833935018\n",
      "Role Playing : 0.9363718411552346\n",
      "Libraries & Demo : 0.9363718411552346\n",
      "Auto & Vehicles : 0.9250902527075812\n",
      "Strategy : 0.9138086642599278\n",
      "House & Home : 0.8235559566787004\n",
      "Weather : 0.8009927797833934\n",
      "Events : 0.7107400722021661\n",
      "Adventure : 0.6768953068592057\n",
      "Comics : 0.6092057761732852\n",
      "Beauty : 0.5979241877256317\n",
      "Art & Design : 0.5979241877256317\n",
      "Parenting : 0.4963898916967509\n",
      "Card : 0.45126353790613716\n",
      "Casino : 0.42870036101083037\n",
      "Trivia : 0.41741877256317694\n",
      "Educational;Education : 0.39485559566787\n",
      "Board : 0.3835740072202166\n",
      "Educational : 0.3722924187725632\n",
      "Education;Education : 0.33844765342960287\n",
      "Word : 0.2594765342960289\n",
      "Casual;Pretend Play : 0.236913357400722\n",
      "Music : 0.2030685920577617\n",
      "Racing;Action & Adventure : 0.16922382671480143\n",
      "Puzzle;Brain Games : 0.16922382671480143\n",
      "Entertainment;Music & Video : 0.16922382671480143\n",
      "Casual;Brain Games : 0.13537906137184114\n",
      "Casual;Action & Adventure : 0.13537906137184114\n",
      "Arcade;Action & Adventure : 0.12409747292418773\n",
      "Action;Action & Adventure : 0.10153429602888085\n",
      "Educational;Pretend Play : 0.09025270758122744\n",
      "Simulation;Action & Adventure : 0.078971119133574\n",
      "Parenting;Education : 0.078971119133574\n",
      "Entertainment;Brain Games : 0.078971119133574\n",
      "Board;Brain Games : 0.078971119133574\n",
      "Parenting;Music & Video : 0.06768953068592057\n",
      "Educational;Brain Games : 0.06768953068592057\n",
      "Casual;Creativity : 0.06768953068592057\n",
      "Art & Design;Creativity : 0.06768953068592057\n",
      "Education;Pretend Play : 0.056407942238267145\n",
      "Role Playing;Pretend Play : 0.04512635379061372\n",
      "Education;Creativity : 0.04512635379061372\n",
      "Role Playing;Action & Adventure : 0.033844765342960284\n",
      "Puzzle;Action & Adventure : 0.033844765342960284\n",
      "Entertainment;Creativity : 0.033844765342960284\n",
      "Entertainment;Action & Adventure : 0.033844765342960284\n",
      "Educational;Creativity : 0.033844765342960284\n",
      "Educational;Action & Adventure : 0.033844765342960284\n",
      "Education;Music & Video : 0.033844765342960284\n",
      "Education;Brain Games : 0.033844765342960284\n",
      "Education;Action & Adventure : 0.033844765342960284\n",
      "Adventure;Action & Adventure : 0.033844765342960284\n",
      "Video Players & Editors;Music & Video : 0.02256317689530686\n",
      "Sports;Action & Adventure : 0.02256317689530686\n",
      "Simulation;Pretend Play : 0.02256317689530686\n",
      "Puzzle;Creativity : 0.02256317689530686\n",
      "Music;Music & Video : 0.02256317689530686\n",
      "Entertainment;Pretend Play : 0.02256317689530686\n",
      "Casual;Education : 0.02256317689530686\n",
      "Board;Action & Adventure : 0.02256317689530686\n",
      "Video Players & Editors;Creativity : 0.01128158844765343\n",
      "Trivia;Education : 0.01128158844765343\n",
      "Travel & Local;Action & Adventure : 0.01128158844765343\n",
      "Tools;Education : 0.01128158844765343\n",
      "Strategy;Education : 0.01128158844765343\n",
      "Strategy;Creativity : 0.01128158844765343\n",
      "Strategy;Action & Adventure : 0.01128158844765343\n",
      "Simulation;Education : 0.01128158844765343\n",
      "Role Playing;Brain Games : 0.01128158844765343\n",
      "Racing;Pretend Play : 0.01128158844765343\n",
      "Puzzle;Education : 0.01128158844765343\n",
      "Parenting;Brain Games : 0.01128158844765343\n",
      "Music & Audio;Music & Video : 0.01128158844765343\n",
      "Lifestyle;Pretend Play : 0.01128158844765343\n",
      "Lifestyle;Education : 0.01128158844765343\n",
      "Health & Fitness;Education : 0.01128158844765343\n",
      "Health & Fitness;Action & Adventure : 0.01128158844765343\n",
      "Entertainment;Education : 0.01128158844765343\n",
      "Communication;Creativity : 0.01128158844765343\n",
      "Comics;Creativity : 0.01128158844765343\n",
      "Casual;Music & Video : 0.01128158844765343\n",
      "Card;Action & Adventure : 0.01128158844765343\n",
      "Books & Reference;Education : 0.01128158844765343\n",
      "Art & Design;Pretend Play : 0.01128158844765343\n",
      "Art & Design;Action & Adventure : 0.01128158844765343\n",
      "Arcade;Pretend Play : 0.01128158844765343\n",
      "Adventure;Education : 0.01128158844765343\n"
     ]
    }
   ],
   "metadata": {}
  },
  {
   "cell_type": "code",
   "execution_count": 128,
   "source": [
    "print(\"Apple Data:\\n\")\r\n",
    "display_table(apple_data_final, -5) # Genre"
   ],
   "outputs": [
    {
     "output_type": "stream",
     "name": "stdout",
     "text": [
      "Apple Data:\n",
      "\n",
      "Games : 56.02425520696019\n",
      "Entertainment : 8.19931452675982\n",
      "Photo & Video : 4.165568151858687\n",
      "Social Networking : 3.374637490113367\n",
      "Education : 3.295544423938835\n",
      "Shopping : 3.031900870023728\n",
      "Utilities : 2.7682573161086212\n",
      "Lifestyle : 2.372791985235961\n",
      "Finance : 2.056419720537833\n",
      "Health & Fitness : 1.9509622989717903\n",
      "Sports : 1.8455048774057472\n",
      "Music : 1.7664118112312155\n",
      "Book : 1.7400474558397045\n",
      "News : 1.3709464803585552\n",
      "Travel : 1.2391247034010018\n",
      "Productivity : 1.2391247034010018\n",
      "Food & Drink : 0.9227524387028736\n",
      "Weather : 0.7909306617453202\n",
      "Navigation : 0.5009227524387029\n",
      "Reference : 0.47455839704719216\n",
      "Business : 0.4218296862641709\n",
      "Catalogs : 0.23727919852359608\n",
      "Medical : 0.21091484313208544\n"
     ]
    }
   ],
   "metadata": {}
  },
  {
   "cell_type": "markdown",
   "source": [
    "# Step 11: Analyze Frequency Tables"
   ],
   "metadata": {}
  },
  {
   "cell_type": "markdown",
   "source": [
    "## Apple Data\r\n",
    "After pulling the most popular app categories from the Apple dataset, we can see that the top three categories are games, entertainment and photos & video. However, games occupies a much larger portion of the market (almost 7x the next category)\r\n",
    "\r\n",
    "\r\n",
    "## Google Data\r\n",
    "When looking at the Google dataset, we can see that both app markets are quite different. The largest number of apps in a specific category on android is in \"Tools\". This shows a larger focus on productivity amongst Android users."
   ],
   "metadata": {}
  },
  {
   "cell_type": "markdown",
   "source": [
    "# Step 12: Calculate Average Number of Installs Per App Genre - Apple"
   ],
   "metadata": {}
  },
  {
   "cell_type": "code",
   "execution_count": 143,
   "source": [
    "categories_apple = freq_table(apple_data_final, -5)\r\n",
    "\r\n",
    "for category in categories_apple:\r\n",
    "    total,len_category = 0,0\r\n",
    "    for app in apple_data_final:\r\n",
    "        app_category = app[-5]\r\n",
    "        if app_category == category:            \r\n",
    "            n_ratings = float(app[5])\r\n",
    "            total += n_ratings\r\n",
    "            len_category += 1\r\n",
    "    avg_n_ratings = total / len_category\r\n",
    "    print(category, ':', avg_n_ratings)"
   ],
   "outputs": [
    {
     "output_type": "stream",
     "name": "stdout",
     "text": [
      "Music : 56482.02985074627\n",
      "Games : 11259.265882352942\n",
      "Health & Fitness : 19176.64864864865\n",
      "Weather : 45041.53333333333\n",
      "Utilities : 12775.466666666667\n",
      "Shopping : 17678.93913043478\n",
      "Social Networking : 16065.515625\n",
      "Navigation : 26664.736842105263\n",
      "Lifestyle : 7718.066666666667\n",
      "Sports : 18031.914285714287\n",
      "Photo & Video : 12421.056962025317\n",
      "Book : 8498.333333333334\n",
      "Entertainment : 7398.6012861736335\n",
      "Finance : 12532.115384615385\n",
      "Travel : 12080.446808510638\n",
      "Reference : 18680.666666666668\n",
      "Education : 5982.2\n",
      "Productivity : 18663.27659574468\n",
      "News : 8581.711538461539\n",
      "Food & Drink : 4524.8\n",
      "Business : 4744.5\n",
      "Catalogs : 1779.5555555555557\n",
      "Medical : 459.75\n"
     ]
    }
   ],
   "metadata": {}
  },
  {
   "cell_type": "markdown",
   "source": [
    "## Recommend a Profile\r\n",
    "\r\n",
    "When it comes to install data on iOS, it seems like there is still a focus on entertainment with a high number of installs in categories like Music, Sports and Games. "
   ],
   "metadata": {}
  },
  {
   "cell_type": "markdown",
   "source": [],
   "metadata": {}
  },
  {
   "cell_type": "markdown",
   "source": [
    "# Step 13: Calculate Average Number of Installs Per App Genre - Google"
   ],
   "metadata": {}
  },
  {
   "cell_type": "code",
   "execution_count": 132,
   "source": [
    "display_table(google_data_final,5)"
   ],
   "outputs": [
    {
     "output_type": "stream",
     "name": "stdout",
     "text": [
      "1,000,000+ : 15.726534296028879\n",
      "100,000+ : 11.552346570397113\n",
      "10,000,000+ : 10.548285198555957\n",
      "10,000+ : 10.198555956678701\n",
      "1,000+ : 8.393501805054152\n",
      "100+ : 6.915613718411552\n",
      "5,000,000+ : 6.825361010830325\n",
      "500,000+ : 5.561823104693141\n",
      "50,000+ : 4.7721119133574\n",
      "5,000+ : 4.512635379061372\n",
      "10+ : 3.5424187725631766\n",
      "500+ : 3.2490974729241873\n",
      "50,000,000+ : 2.3014440433213\n",
      "100,000,000+ : 2.1322202166064983\n",
      "50+ : 1.917870036101083\n",
      "5+ : 0.78971119133574\n",
      "1+ : 0.5076714801444043\n",
      "500,000,000+ : 0.2707581227436823\n",
      "1,000,000,000+ : 0.22563176895306858\n",
      "0+ : 0.04512635379061372\n",
      "0 : 0.01128158844765343\n"
     ]
    }
   ],
   "metadata": {}
  },
  {
   "cell_type": "code",
   "execution_count": 142,
   "source": [
    "categories_google = freq_table(google_data_final, 1)\r\n",
    "\r\n",
    "for category in categories_google:\r\n",
    "    total, len_category = 0,0\r\n",
    "    for app in google_data_final:\r\n",
    "        category_app = app[1]\r\n",
    "        if category_app == category:            \r\n",
    "            n_installs = app[5]\r\n",
    "            n_installs = (n_installs.replace(',', '')).replace('+', '')\r\n",
    "            total += float(n_installs)\r\n",
    "            len_category += 1\r\n",
    "    avg_number_installs = total / len_category\r\n",
    "    print(category, ':', avg_number_installs)"
   ],
   "outputs": [
    {
     "output_type": "stream",
     "name": "stdout",
     "text": [
      "ART_AND_DESIGN : 1986335.0877192982\n",
      "AUTO_AND_VEHICLES : 647317.8170731707\n",
      "BEAUTY : 513151.88679245283\n",
      "BOOKS_AND_REFERENCE : 8767811.894736841\n",
      "BUSINESS : 1712290.1474201474\n",
      "COMICS : 817657.2727272727\n",
      "COMMUNICATION : 38456119.167247385\n",
      "DATING : 854028.8303030303\n",
      "EDUCATION : 1833495.145631068\n",
      "ENTERTAINMENT : 11640705.88235294\n",
      "EVENTS : 253542.22222222222\n",
      "FINANCE : 1387692.475609756\n",
      "FOOD_AND_DRINK : 1924897.7363636363\n",
      "HEALTH_AND_FITNESS : 4188821.9853479853\n",
      "HOUSE_AND_HOME : 1331540.5616438356\n",
      "LIBRARIES_AND_DEMO : 638503.734939759\n",
      "LIFESTYLE : 1437816.2687861272\n",
      "GAME : 15588015.603248259\n",
      "FAMILY : 3695641.8198090694\n",
      "MEDICAL : 120550.61980830671\n",
      "SOCIAL : 23253652.127118643\n",
      "SHOPPING : 7036877.311557789\n",
      "PHOTOGRAPHY : 17840110.40229885\n",
      "SPORTS : 3638640.1428571427\n",
      "TRAVEL_AND_LOCAL : 13984077.710144928\n",
      "TOOLS : 10801391.298666667\n",
      "PERSONALIZATION : 5201482.6122448975\n",
      "PRODUCTIVITY : 16787331.344927534\n",
      "PARENTING : 542603.6206896552\n",
      "WEATHER : 5074486.197183099\n",
      "VIDEO_PLAYERS : 24727872.452830188\n",
      "NEWS_AND_MAGAZINES : 9549178.467741935\n",
      "MAPS_AND_NAVIGATION : 4056941.7741935486\n"
     ]
    }
   ],
   "metadata": {}
  },
  {
   "cell_type": "markdown",
   "source": [
    "## Recommend a Profile"
   ],
   "metadata": {}
  },
  {
   "cell_type": "markdown",
   "source": [
    "When it comes to install data on Google, the data shifts a bit from what we saw when looking into categorical data only. In fact there are similar high target install categories to iOS such as communication, social, photography and games. "
   ],
   "metadata": {}
  },
  {
   "cell_type": "markdown",
   "source": [
    "# CONCLUSION- APP PROFILE RECOMENDATION"
   ],
   "metadata": {}
  },
  {
   "cell_type": "markdown",
   "source": [
    "In conclusion, I would recommend an app profile that combines some of the top categories across both platforms. For example, a social media app that hosted its' own game library. As more and more people steer away from some of the larger players in social media in order to improve their personal privacy, niche social media apps will take off."
   ],
   "metadata": {}
  }
 ],
 "metadata": {
  "orig_nbformat": 4,
  "language_info": {
   "name": "python",
   "version": "3.9.5",
   "mimetype": "text/x-python",
   "codemirror_mode": {
    "name": "ipython",
    "version": 3
   },
   "pygments_lexer": "ipython3",
   "nbconvert_exporter": "python",
   "file_extension": ".py"
  },
  "kernelspec": {
   "name": "python3",
   "display_name": "Python 3.9.5 64-bit"
  },
  "interpreter": {
   "hash": "9050fd693120fd45f36e1c6cc46b43b8c259da6975a7356b8d750b390a6e3293"
  }
 },
 "nbformat": 4,
 "nbformat_minor": 2
}