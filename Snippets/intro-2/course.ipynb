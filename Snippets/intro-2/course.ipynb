{
 "metadata": {
  "language_info": {
   "codemirror_mode": {
    "name": "ipython",
    "version": 3
   },
   "file_extension": ".py",
   "mimetype": "text/x-python",
   "name": "python",
   "nbconvert_exporter": "python",
   "pygments_lexer": "ipython3",
   "version": "3.9.5"
  },
  "orig_nbformat": 4,
  "kernelspec": {
   "name": "python3",
   "display_name": "Python 3.9.5 64-bit"
  },
  "interpreter": {
   "hash": "9050fd693120fd45f36e1c6cc46b43b8c259da6975a7356b8d750b390a6e3293"
  }
 },
 "nbformat": 4,
 "nbformat_minor": 2,
 "cells": [
  {
   "source": [
    "# Review of Introduction to Programming in Python"
   ],
   "cell_type": "markdown",
   "metadata": {}
  },
  {
   "source": [
    "This course builds on the Introduction to Programming in Python (1) course. This first module is a refresher of the concepts covered in that course.\n",
    "\n",
    "As tradition dictates, let's start with a Hello World program:\n"
   ],
   "cell_type": "markdown",
   "metadata": {}
  },
  {
   "cell_type": "code",
   "execution_count": null,
   "metadata": {},
   "outputs": [],
   "source": [
    "print('Hello, World!')"
   ]
  },
  {
   "source": [
    "\n",
    " \n",
    "\n",
    "You can edit and run any example in Grok by clicking run, . Try changing 'Hello, World!' to 'Hi!', and running it again.\n",
    "\n",
    "Once you've changed an example, the button appears. Click it and the code swaps back to the original. Click again, it swaps back to your version."
   ],
   "cell_type": "markdown",
   "metadata": {}
  },
  {
   "source": [
    "## Printing in Python\n",
    "The Python print function can take multiple arguments, and the joining (sep) and ending (end) strings can be specified. For example:"
   ],
   "cell_type": "markdown",
   "metadata": {}
  },
  {
   "source": [
    "print(\"Hello\", \"there!\")\n",
    "print('Hello', 'world', sep='-')\n",
    "print('There is no new line here', end='*')\n",
    "print('at all!')"
   ],
   "cell_type": "code",
   "metadata": {},
   "execution_count": 7,
   "outputs": [
    {
     "output_type": "stream",
     "name": "stdout",
     "text": [
      "Hello there!\nHello-world\nThere is no new line here*at all!\n"
     ]
    }
   ]
  },
  {
   "source": [
    "## Python the Calculator"
   ],
   "cell_type": "markdown",
   "metadata": {}
  },
  {
   "source": [
    "Python is a powerful calculator. You can use it to do all the standard mathematical operations, and order of operations is obeyed. For example:"
   ],
   "cell_type": "markdown",
   "metadata": {}
  },
  {
   "source": [
    "print(2 + 2)\n",
    "print(20 - 7)\n",
    "print(5*6)\n",
    "print(15/2)\n",
    "print(100/2 - 3*8) "
   ],
   "cell_type": "code",
   "metadata": {},
   "execution_count": 6,
   "outputs": [
    {
     "output_type": "stream",
     "name": "stdout",
     "text": [
      "4\n13\n30\n7.5\n26.0\n"
     ]
    }
   ]
  },
  {
   "source": [
    "Division returns a float, even if both numbers are integers (see our Python 2 to 3 cheatsheet).\n",
    "\n",
    "The modulus (or mod) operator % returns the remainder after division:"
   ],
   "cell_type": "markdown",
   "metadata": {}
  },
  {
   "cell_type": "code",
   "execution_count": 2,
   "metadata": {},
   "outputs": [
    {
     "output_type": "stream",
     "name": "stdout",
     "text": [
      "1\n2\n"
     ]
    }
   ],
   "source": [
    "print(15 % 2)\n",
    "print(11 % 3)"
   ]
  },
  {
   "source": [
    "And you can use the ** operator to raise a number to a power (exponentiation):"
   ],
   "cell_type": "markdown",
   "metadata": {}
  },
  {
   "cell_type": "code",
   "execution_count": 1,
   "metadata": {},
   "outputs": [
    {
     "output_type": "stream",
     "name": "stdout",
     "text": [
      "16\n100000\n"
     ]
    }
   ],
   "source": [
    "print(4**2) \n",
    "print(10**5)"
   ]
  },
  {
   "source": [
    "## Getting input from the user"
   ],
   "cell_type": "markdown",
   "metadata": {}
  },
  {
   "source": [
    "In Python 3, the input function reads in a string provided by the user. If you want to convert the input to a different type, such as a float or integer, you need to cast to the appropriate type. For example:"
   ],
   "cell_type": "markdown",
   "metadata": {}
  },
  {
   "cell_type": "code",
   "execution_count": null,
   "metadata": {},
   "outputs": [],
   "source": [
    "name = input('What is your name? ')\n",
    "year = int(input('What year were you born in? '))\n",
    "nyears = year - 1879\n",
    "print(name, 'was born', nyears, 'years after Einstein.')"
   ]
  },
  {
   "source": [
    "The year variable needs to be converted to an integer so that we can perform the subtraction.\n",
    "\n",
    "When you run examples on the website that require user input, the program will print out the prompt and wait for input from you. Simply type into the text box and hit enter."
   ],
   "cell_type": "markdown",
   "metadata": {}
  },
  {
   "source": [
    "## Two kinds of numbers"
   ],
   "cell_type": "markdown",
   "metadata": {}
  },
  {
   "source": [
    "There are two types of numbers in Python. Whole numbers (or integers) have the type int, and fractional or decimal numbers have the type float.\n",
    "\n",
    "You can convert between types by casting using the int and float functions:"
   ],
   "cell_type": "markdown",
   "metadata": {}
  },
  {
   "cell_type": "code",
   "execution_count": 8,
   "metadata": {},
   "outputs": [
    {
     "output_type": "stream",
     "name": "stdout",
     "text": [
      "3.5\n3\n"
     ]
    }
   ],
   "source": [
    "x = 3.5\n",
    "print(x)\n",
    "print(int(x))"
   ]
  },
  {
   "source": [
    "Notice that when you cast from a float to an int the result is truncated (not rounded like you are used to in maths).\n",
    "\n",
    "In Python 3, division always returns a float (even when both the original numbers are integers). For example:"
   ],
   "cell_type": "markdown",
   "metadata": {}
  },
  {
   "cell_type": "code",
   "execution_count": 9,
   "metadata": {},
   "outputs": [
    {
     "output_type": "stream",
     "name": "stdout",
     "text": [
      "0.8\n<class 'float'>\n"
     ]
    }
   ],
   "source": [
    "# Here the type function returns what data type mark is.\n",
    "correct = 12\n",
    "total = 15\n",
    "mark = correct/total\n",
    "print(mark)\n",
    "print(type(mark))"
   ]
  },
  {
   "source": [
    "A float is returned even when the result is a whole number:"
   ],
   "cell_type": "markdown",
   "metadata": {}
  },
  {
   "cell_type": "code",
   "execution_count": 10,
   "metadata": {},
   "outputs": [
    {
     "output_type": "stream",
     "name": "stdout",
     "text": [
      "1.0\n<class 'float'>\n"
     ]
    }
   ],
   "source": [
    "correct = 15\n",
    "total = 15\n",
    "mark = correct/total\n",
    "print(mark)\n",
    "print(type(mark))"
   ]
  },
  {
   "cell_type": "code",
   "execution_count": null,
   "metadata": {},
   "outputs": [],
   "source": [
    "# Maths mix"
   ]
  },
  {
   "source": [
    "Write a program that reads in two integers, then prints out the sum of them (added together) and the product (multiplied together).\n",
    "\n",
    "Your program should work like this:\n",
    "\n",
    "For example:"
   ],
   "cell_type": "markdown",
   "metadata": {}
  },
  {
   "source": [
    "Number 1: 3\n",
    "Number 2: 4\n",
    "\n",
    "#output\n",
    "3 plus 4 is 7\n",
    "3 times 4 is 12"
   ],
   "cell_type": "code",
   "metadata": {},
   "execution_count": null,
   "outputs": []
  },
  {
   "source": [
    "EX 2"
   ],
   "cell_type": "markdown",
   "metadata": {}
  },
  {
   "cell_type": "code",
   "execution_count": 12,
   "metadata": {},
   "outputs": [
    {
     "output_type": "error",
     "ename": "SyntaxError",
     "evalue": "invalid syntax (<ipython-input-12-1f3bc1c069df>, line 1)",
     "traceback": [
      "\u001b[1;36m  File \u001b[1;32m\"<ipython-input-12-1f3bc1c069df>\"\u001b[1;36m, line \u001b[1;32m1\u001b[0m\n\u001b[1;33m    Number 1: 15\u001b[0m\n\u001b[1;37m           ^\u001b[0m\n\u001b[1;31mSyntaxError\u001b[0m\u001b[1;31m:\u001b[0m invalid syntax\n"
     ]
    }
   ],
   "source": [
    "Number 1: 15\n",
    "Number 2: 5\n",
    "#output\n",
    "15 plus 5 is 20\n",
    "15 times 5 is 75"
   ]
  },
  {
   "source": [
    "## Letters and Words"
   ],
   "cell_type": "markdown",
   "metadata": {}
  },
  {
   "source": [
    "Strings are a sequence of characters. Strings are enclosed in either single or double quotes, for example:"
   ],
   "cell_type": "markdown",
   "metadata": {}
  },
  {
   "cell_type": "code",
   "execution_count": 13,
   "metadata": {},
   "outputs": [
    {
     "output_type": "stream",
     "name": "stdout",
     "text": [
      "Hello World\nGrok's world\n"
     ]
    }
   ],
   "source": [
    "\n",
    " print('Hello World')\n",
    "print(\"Grok's world\")"
   ]
  },
  {
   "source": [
    "\n",
    "If you need to escape a special character within a string, you can do it using the backslash. For example:"
   ],
   "cell_type": "markdown",
   "metadata": {}
  },
  {
   "cell_type": "code",
   "execution_count": 14,
   "metadata": {},
   "outputs": [
    {
     "output_type": "stream",
     "name": "stdout",
     "text": [
      "Grok's world\n"
     ]
    }
   ],
   "source": [
    "print('Grok\\'s world')"
   ]
  },
  {
   "source": [
    "You can access a character by indexing or a sequence of characters by slicing:"
   ],
   "cell_type": "markdown",
   "metadata": {}
  },
  {
   "cell_type": "code",
   "execution_count": 15,
   "metadata": {},
   "outputs": [
    {
     "output_type": "stream",
     "name": "stdout",
     "text": [
      "H d W\ns wo world Grok\n"
     ]
    }
   ],
   "source": [
    "\n",
    "\n",
    "\n",
    " \n",
    "hello = 'Hello World'\n",
    "grok = \"Grok's world\"\n",
    "print(hello[0], hello[-1], hello[6])\n",
    "print(grok[5:9], grok[-5:], grok[:4])"
   ]
  },
  {
   "source": [
    "You can check whether a string occurs in another using in, for example:"
   ],
   "cell_type": "markdown",
   "metadata": {}
  },
  {
   "cell_type": "code",
   "execution_count": 16,
   "metadata": {},
   "outputs": [
    {
     "output_type": "stream",
     "name": "stdout",
     "text": [
      "True\nFalse\n"
     ]
    }
   ],
   "source": [
    "hello = 'Hello World'\n",
    "grok = \"Grok's world\"\n",
    "print('World' in hello)\n",
    "print('cat' in grok)"
   ]
  },
  {
   "source": [
    "\n",
    "Some of arithmetic operators also apply to strings. Addition concatenates strings, and multiplication duplicates the string:"
   ],
   "cell_type": "markdown",
   "metadata": {}
  },
  {
   "cell_type": "code",
   "execution_count": 17,
   "metadata": {},
   "outputs": [
    {
     "output_type": "stream",
     "name": "stdout",
     "text": [
      "HelloWorld\nHelloHelloHelloHelloHelloWorldWorld\n"
     ]
    }
   ],
   "source": [
    "print('Hello' + 'World')\n",
    "print('Hello'*5 + 'World'*2)"
   ]
  },
  {
   "source": [
    "\n",
    "\n",
    " \n",
    "\n",
    "\n",
    " \n",
    "\n",
    "Finally, you can find the length of a string using len"
   ],
   "cell_type": "markdown",
   "metadata": {}
  },
  {
   "cell_type": "code",
   "execution_count": 18,
   "metadata": {},
   "outputs": [
    {
     "output_type": "stream",
     "name": "stdout",
     "text": [
      "11\n"
     ]
    }
   ],
   "source": [
    " \n",
    "msg1 = 'Hello World'\n",
    "print(len(msg1))"
   ]
  },
  {
   "source": [
    "## Manipulating String"
   ],
   "cell_type": "markdown",
   "metadata": {}
  },
  {
   "source": [
    "Strings come with a wide range of builtin methods that allow you to manipulate and transform them. We're going to give some examples of some of the most useful ones here, but there are many more you can explore yourself in the Python library reference.\n",
    "\n",
    "You can change the case of a string:"
   ],
   "cell_type": "markdown",
   "metadata": {}
  },
  {
   "cell_type": "code",
   "execution_count": 20,
   "metadata": {},
   "outputs": [
    {
     "output_type": "stream",
     "name": "stdout",
     "text": [
      "HELLO WORLD\nhello world\n"
     ]
    }
   ],
   "source": [
    "msg = 'Hello World'\n",
    "print(msg.upper())\n",
    "print(msg.lower())"
   ]
  },
  {
   "source": [
    "\n",
    "You can also check the case of a string using isupper and islower.\n",
    "\n",
    "You can replace substrings within a string:"
   ],
   "cell_type": "markdown",
   "metadata": {}
  },
  {
   "cell_type": "code",
   "execution_count": 19,
   "metadata": {},
   "outputs": [
    {
     "output_type": "stream",
     "name": "stdout",
     "text": [
      "HeXXo WorXd\n"
     ]
    }
   ],
   "source": [
    " \n",
    "msg = 'Hello World'\n",
    "print(msg.replace('l', 'X'))"
   ]
  },
  {
   "source": [
    "And you can count how many times a substring appears within a string:"
   ],
   "cell_type": "markdown",
   "metadata": {}
  },
  {
   "cell_type": "code",
   "execution_count": null,
   "metadata": {},
   "outputs": [],
   "source": [
    "msg = 'Hello World'\n",
    "print(msg.count('l'))"
   ]
  },
  {
   "source": [
    "Some other fun methods you might want to try are title, swapcase, startswith and endswith.\n",
    "\n",
    "Note that strings are immutable, meaning that once the string is constructed, it cannot be modified. For example, you cannot change a character in an existing string by assigning a new character to a subscript:"
   ],
   "cell_type": "markdown",
   "metadata": {}
  },
  {
   "cell_type": "code",
   "execution_count": 23,
   "metadata": {},
   "outputs": [
    {
     "output_type": "error",
     "ename": "TypeError",
     "evalue": "'str' object does not support item assignment",
     "traceback": [
      "\u001b[1;31m---------------------------------------------------------------------------\u001b[0m",
      "\u001b[1;31mTypeError\u001b[0m                                 Traceback (most recent call last)",
      "\u001b[1;32m<ipython-input-23-2a290c955a2e>\u001b[0m in \u001b[0;36m<module>\u001b[1;34m\u001b[0m\n\u001b[0;32m      1\u001b[0m \u001b[0mmsg\u001b[0m \u001b[1;33m=\u001b[0m \u001b[1;34m'Hello World'\u001b[0m\u001b[1;33m\u001b[0m\u001b[1;33m\u001b[0m\u001b[0m\n\u001b[1;32m----> 2\u001b[1;33m \u001b[0mmsg\u001b[0m\u001b[1;33m[\u001b[0m\u001b[1;36m0\u001b[0m\u001b[1;33m]\u001b[0m \u001b[1;33m=\u001b[0m \u001b[1;34m'X'\u001b[0m\u001b[1;33m\u001b[0m\u001b[1;33m\u001b[0m\u001b[0m\n\u001b[0m",
      "\u001b[1;31mTypeError\u001b[0m: 'str' object does not support item assignment"
     ]
    }
   ],
   "source": [
    "msg = 'Hello World'\n",
    "msg[0] = 'X'"
   ]
  },
  {
   "source": [
    "Instead, we'll have to create a new string by slicing up the string and concatenating the pieces, and then assigning the result back to the original variable:"
   ],
   "cell_type": "markdown",
   "metadata": {}
  },
  {
   "cell_type": "code",
   "execution_count": 21,
   "metadata": {},
   "outputs": [
    {
     "output_type": "stream",
     "name": "stdout",
     "text": [
      "Xello World\nXello World\n"
     ]
    }
   ],
   "source": [
    "\r\n",
    "msg = 'Hello World'\r\n",
    "msg = 'X' + msg[1:]\r\n",
    "print(msg)\r\n",
    "msg = 'Hello World'\r\n",
    "msg = 'X' + msg[1:]\r\n",
    "print(msg)"
   ]
  },
  {
   "source": [
    "## Making Decisions"
   ],
   "cell_type": "markdown",
   "metadata": {}
  },
  {
   "source": [
    "To control the flow of a program we often need to make decisions depending on whether a particular condition is True or False. In Python we do this with if... elif... else.\n",
    "\n",
    "elif is an abbreviation for else and if together. It works like this:"
   ],
   "cell_type": "markdown",
   "metadata": {}
  },
  {
   "cell_type": "code",
   "execution_count": 24,
   "metadata": {},
   "outputs": [
    {
     "output_type": "stream",
     "name": "stdout",
     "text": [
      "x is greater than three\n"
     ]
    }
   ],
   "source": [
    "x = 5\n",
    "if x < 3:\n",
    "  print(\"x is less than three\")\n",
    "elif x == 3:\n",
    "  print(\"x is equal to three\")\n",
    "else:\n",
    "  print(\"x is greater than three\")"
   ]
  },
  {
   "source": [
    "You can test as many cases as you want by using multiple elifs.\n",
    "\n",
    "You can nest if statements inside each other. For example, to do the above without using elif you can do:"
   ],
   "cell_type": "markdown",
   "metadata": {}
  },
  {
   "cell_type": "code",
   "execution_count": 25,
   "metadata": {},
   "outputs": [
    {
     "output_type": "stream",
     "name": "stdout",
     "text": [
      "x is greater than three\n"
     ]
    }
   ],
   "source": [
    " \n",
    "x = 5\n",
    "if x < 3:\n",
    "  print(\"x is less than three\")\n",
    "else:\n",
    "  if x == 3:\n",
    "    print(\"x is equal to three\")\n",
    "  else:\n",
    "    print(\"x is greater than three\")"
   ]
  },
  {
   "cell_type": "code",
   "execution_count": null,
   "metadata": {},
   "outputs": [],
   "source": [
    "For more information see the Python documentation on if statements."
   ]
  },
  {
   "source": [
    "\n",
    "We can use the following comparison operators in if statements:\n",
    "\n",
    "Operation\tOperator\n",
    "equal to\t==\n",
    "not equal to\t!=\n",
    "less than\t<\n",
    "less than or equal to\t<=\n",
    "greater than\t>\n",
    "greater than or equal to\t>=\n",
    "You can use a print statement to test these operators in conditional expressions:\n",
    "\n",
    " \n",
    "\n",
    " \n",
    "\n",
    "\n",
    "\n",
    "\n"
   ],
   "cell_type": "markdown",
   "metadata": {}
  },
  {
   "cell_type": "code",
   "execution_count": 28,
   "metadata": {},
   "outputs": [
    {
     "output_type": "stream",
     "name": "stdout",
     "text": [
      "True\n"
     ]
    }
   ],
   "source": [
    "x = 3\n",
    "print(x < 10)\n"
   ]
  },
  {
   "source": [
    "This prints True because 3 is less than 10.\n",
    "\n",
    " \n"
   ],
   "cell_type": "markdown",
   "metadata": {}
  },
  {
   "cell_type": "code",
   "execution_count": 26,
   "metadata": {},
   "outputs": [
    {
     "output_type": "stream",
     "name": "stdout",
     "text": [
      "False\n"
     ]
    }
   ],
   "source": [
    "x = 3\n",
    "print(x > 10)\n"
   ]
  },
  {
   "source": [
    "This prints False because 3 is not greater than 10."
   ],
   "cell_type": "markdown",
   "metadata": {}
  },
  {
   "cell_type": "code",
   "execution_count": null,
   "metadata": {},
   "outputs": [],
   "source": []
  },
  {
   "cell_type": "code",
   "execution_count": null,
   "metadata": {},
   "outputs": [],
   "source": []
  },
  {
   "cell_type": "code",
   "execution_count": null,
   "metadata": {},
   "outputs": [],
   "source": []
  },
  {
   "cell_type": "code",
   "execution_count": null,
   "metadata": {},
   "outputs": [],
   "source": []
  },
  {
   "cell_type": "code",
   "execution_count": null,
   "metadata": {},
   "outputs": [],
   "source": []
  },
  {
   "cell_type": "code",
   "execution_count": null,
   "metadata": {},
   "outputs": [],
   "source": []
  },
  {
   "cell_type": "code",
   "execution_count": null,
   "metadata": {},
   "outputs": [],
   "source": []
  },
  {
   "cell_type": "code",
   "execution_count": null,
   "metadata": {},
   "outputs": [],
   "source": []
  },
  {
   "cell_type": "code",
   "execution_count": null,
   "metadata": {},
   "outputs": [],
   "source": []
  },
  {
   "cell_type": "code",
   "execution_count": null,
   "metadata": {},
   "outputs": [],
   "source": []
  },
  {
   "cell_type": "code",
   "execution_count": null,
   "metadata": {},
   "outputs": [],
   "source": []
  },
  {
   "cell_type": "code",
   "execution_count": null,
   "metadata": {},
   "outputs": [],
   "source": []
  },
  {
   "cell_type": "code",
   "execution_count": null,
   "metadata": {},
   "outputs": [],
   "source": []
  }
 ]
}